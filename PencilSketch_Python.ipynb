{
 "cells": [
  {
   "cell_type": "markdown",
   "id": "armed-hypothetical",
   "metadata": {},
   "source": [
    "- The only library we need for converting an image into a pencil sketch with Python is an OpenCV library in Python. Let’s import it."
   ]
  },
  {
   "cell_type": "code",
   "execution_count": 9,
   "id": "second-stability",
   "metadata": {},
   "outputs": [],
   "source": [
    "import cv2"
   ]
  },
  {
   "cell_type": "markdown",
   "id": "fiscal-marina",
   "metadata": {},
   "source": [
    "- Now the next thing to do is to read the image:"
   ]
  },
  {
   "cell_type": "code",
   "execution_count": 16,
   "id": "direct-accounting",
   "metadata": {},
   "outputs": [
    {
     "data": {
      "text/plain": [
       "-1"
      ]
     },
     "execution_count": 16,
     "metadata": {},
     "output_type": "execute_result"
    }
   ],
   "source": [
    "image = cv2.imread('dog.jpg')\n",
    "cv2.imshow('Dog', image)\n",
    "cv2.waitKey(0)"
   ]
  },
  {
   "cell_type": "markdown",
   "id": "light-excuse",
   "metadata": {},
   "source": [
    "- Now after reading the image, we will create a new image by converting the original image to greyscale:"
   ]
  },
  {
   "cell_type": "code",
   "execution_count": 17,
   "id": "military-volume",
   "metadata": {},
   "outputs": [
    {
     "data": {
      "text/plain": [
       "-1"
      ]
     },
     "execution_count": 17,
     "metadata": {},
     "output_type": "execute_result"
    }
   ],
   "source": [
    "gray_image = cv2.cvtColor(image, cv2.COLOR_BGR2GRAY)\n",
    "cv2.imshow(\"New Dog\", gray_image)\n",
    "cv2.waitKey(0)"
   ]
  },
  {
   "cell_type": "markdown",
   "id": "labeled-opinion",
   "metadata": {},
   "source": [
    "- Now the next step is to invert the new grayscale image:"
   ]
  },
  {
   "cell_type": "code",
   "execution_count": 18,
   "id": "involved-vacation",
   "metadata": {},
   "outputs": [
    {
     "data": {
      "text/plain": [
       "-1"
      ]
     },
     "execution_count": 18,
     "metadata": {},
     "output_type": "execute_result"
    }
   ],
   "source": [
    "inverted_image = 255 - gray_image\n",
    "cv2.imshow(\"Inverted\", inverted_image)\n",
    "cv2.waitKey()"
   ]
  },
  {
   "cell_type": "markdown",
   "id": "brazilian-karen",
   "metadata": {},
   "source": [
    "- Now the next step in the process is to blur the image by using the Gaussian Function in OpenCV:"
   ]
  },
  {
   "cell_type": "code",
   "execution_count": 19,
   "id": "younger-israeli",
   "metadata": {},
   "outputs": [],
   "source": [
    "blurred = cv2.GaussianBlur(inverted_image, (21, 21), 0)"
   ]
  },
  {
   "cell_type": "markdown",
   "id": "aquatic-removal",
   "metadata": {},
   "source": [
    "- Then the final step is to invert the blurred image, then we can easily convert the image into a pencil sketch:"
   ]
  },
  {
   "cell_type": "code",
   "execution_count": 20,
   "id": "lasting-childhood",
   "metadata": {},
   "outputs": [
    {
     "data": {
      "text/plain": [
       "-1"
      ]
     },
     "execution_count": 20,
     "metadata": {},
     "output_type": "execute_result"
    }
   ],
   "source": [
    "inverted_blurred = 255 - blurred\n",
    "pencil_sketch = cv2.divide(gray_image, inverted_blurred, scale=256.0)\n",
    "cv2.imshow(\"Sketch\", pencil_sketch)\n",
    "cv2.waitKey(0)"
   ]
  },
  {
   "cell_type": "markdown",
   "id": "armed-covering",
   "metadata": {},
   "source": [
    "- And finally, if you want to have a look at both the original image and the pencil sketch then you can use the following commands:"
   ]
  },
  {
   "cell_type": "code",
   "execution_count": 15,
   "id": "middle-brook",
   "metadata": {},
   "outputs": [
    {
     "data": {
      "text/plain": [
       "-1"
      ]
     },
     "execution_count": 15,
     "metadata": {},
     "output_type": "execute_result"
    }
   ],
   "source": [
    "cv2.imshow(\"original image\", image)\n",
    "cv2.imshow(\"pencil sketch\", pencil_sketch)\n",
    "cv2.waitKey(0)"
   ]
  }
 ],
 "metadata": {
  "kernelspec": {
   "display_name": "Python 3",
   "language": "python",
   "name": "python3"
  },
  "language_info": {
   "codemirror_mode": {
    "name": "ipython",
    "version": 3
   },
   "file_extension": ".py",
   "mimetype": "text/x-python",
   "name": "python",
   "nbconvert_exporter": "python",
   "pygments_lexer": "ipython3",
   "version": "3.8.5"
  }
 },
 "nbformat": 4,
 "nbformat_minor": 5
}
